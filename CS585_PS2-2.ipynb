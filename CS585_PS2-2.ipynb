{
 "cells": [
  {
   "cell_type": "markdown",
   "metadata": {
    "id": "Pgi74o4Dim3s"
   },
   "source": [
    "# CS 585 Problem Set 2 (Total points: 95)\n",
    "\n",
    "Assignment adapted from Svetlana Lazebnik.\n",
    "\n",
    "**Instructions**\n",
    "1.   Assignment is due at 11:59 PM on Tuesday March 04 2025.\n",
    "2.   Submission instructions:\n",
    "\n",
    "     A. A single .pdf report that contains your work for Q1 and Q2. You can either type out your responses in LaTeX or google document. Lastly, please convert your work into a PDF.\n",
    "\n",
    "       The PDF file should be submitted to Gradescope under PS2. Please tag the reponses in your PDF with the Gradescope questions outline as described in Submitting an Assignment.\n",
    "\n",
    "     B. You also need to submit your code in the form of a single .py file in the same directory. You can convert this notebook to Python code by downloading the .ipynb file as Python(.py). Code should also be submitted to Gradescope under PS2-Code. Not submitting your code will lead to a loss of 100% of the points for implementation.\n",
    "\n",
    "     C. Both Q1 and Q2 require you to evaluate your implemented models on held-out test data. You will need to submit the generated outputs (\"Q1_label_predictions.npy\" and \"Q2_surface_predictions.npy\") in the PS2-Code directory as well.\n",
    "\n",
    "     D. We reserve the right to take off points for not following submission instructions. In particular, please tag the reponses in your PDF with the Gradescope questions outline as described in [Submitting an Assignment](https://www.youtube.com/watch?v=u-pK4GzpId0).\n",
    "   "
   ]
  },
  {
   "cell_type": "markdown",
   "metadata": {
    "id": "hjyxZRoJjkIM"
   },
   "source": [
    "#**Q1: Cifar-10 class predictions**"
   ]
  },
  {
   "cell_type": "markdown",
   "metadata": {
    "id": "zWhrmhqVCyGH"
   },
   "source": [
    "# Mount Google Drive\n",
    "\n",
    "This will allow the Colab machine to access Google Drive folders by mounting the drive on the machine. You may be asked to copy and paste an authentication code."
   ]
  },
  {
   "cell_type": "code",
   "execution_count": 25,
   "metadata": {
    "colab": {
     "base_uri": "https://localhost:8080/"
    },
    "id": "Wv2oKmF9AJtI",
    "outputId": "dda0d9a6-88ea-4739-8bbb-2c46d593e13f"
   },
   "outputs": [
    {
     "name": "stdout",
     "output_type": "stream",
     "text": [
      "Mounted at /content/gdrive/\n"
     ]
    }
   ],
   "source": [
    "from google.colab import drive\n",
    "drive.mount('/content/gdrive/')"
   ]
  },
  {
   "cell_type": "code",
   "execution_count": 26,
   "metadata": {
    "colab": {
     "base_uri": "https://localhost:8080/"
    },
    "id": "kKGxaMcmP_Et",
    "outputId": "f532fa12-a36b-4ad9-a42d-3fdf49a27ede"
   },
   "outputs": [
    {
     "name": "stdout",
     "output_type": "stream",
     "text": [
      "shell-init: error retrieving current directory: getcwd: cannot access parent directories: Transport endpoint is not connected\n",
      "ls: cannot open directory '.': Transport endpoint is not connected\n"
     ]
    }
   ],
   "source": [
    "!ls"
   ]
  },
  {
   "cell_type": "markdown",
   "metadata": {
    "id": "4Qs04PPwDOFy"
   },
   "source": [
    "# Change directory to allow imports\n",
    "\n",
    "\n",
    "As noted above, you should create a Google Drive folder to hold all your assignment files. You will need to add this code to the top of any python notebook you run to be able to import python files from your drive assignment folder (you should change the file path below to be your own assignment folder)."
   ]
  },
  {
   "cell_type": "code",
   "execution_count": 1,
   "metadata": {
    "id": "UA2-UyfpEc9O"
   },
   "outputs": [],
   "source": [
    "import os\n",
    "if not os.path.exists(\"/projectnb/cs585bp/students/xananya/CS_585_PS2\"):\n",
    "    os.makedirs(\"/projectnb/cs585bp/students/xananya/CS_585_PS2\")\n",
    "os.chdir(\"/projectnb/cs585bp/students/xananya/CS_585_PS2\")"
   ]
  },
  {
   "cell_type": "code",
   "execution_count": 2,
   "metadata": {
    "colab": {
     "base_uri": "https://localhost:8080/"
    },
    "id": "gyRCWAIyRHWc",
    "outputId": "9d8b81cd-456c-4f4b-8e8b-bc3e4c9f56dc"
   },
   "outputs": [
    {
     "name": "stdout",
     "output_type": "stream",
     "text": [
      "CS585_PS2.ipynb\t\t    data\n",
      "Q1_label_predictions.npy    indoor\n",
      "Q2_surface_predictions.npy  q2_visualization.pdf\n",
      "__MACOSX\t\t    taskonomy_resize_128_public\n",
      "best_normal_model.pth\t    taskonomy_resize_128_public.zip\n",
      "content\t\t\t    vis_valset.pdf\n"
     ]
    }
   ],
   "source": [
    "!ls # Check if this is your PS2 folder"
   ]
  },
  {
   "cell_type": "markdown",
   "metadata": {
    "id": "DDU5aVgR9QBx"
   },
   "source": [
    "# Set up GPU and PyTorch\n",
    "\n",
    "First, ensure that your notebook on Colaboratory is set up to use GPU. After opening the notebook on Colaboratory, go to Edit>Notebook settings, select Python 3 under \"Runtime type,\" select GPU under \"Hardware accelerator,\" and save.\n",
    "\n",
    "Next, install PyTorch:"
   ]
  },
  {
   "cell_type": "code",
   "execution_count": 3,
   "metadata": {
    "colab": {
     "base_uri": "https://localhost:8080/"
    },
    "id": "kjbQtzKT9Uc2",
    "outputId": "8459c534-43d2-493f-bf75-80b0c945e268"
   },
   "outputs": [
    {
     "name": "stdout",
     "output_type": "stream",
     "text": [
      "Defaulting to user installation because normal site-packages is not writeable\n",
      "Requirement already satisfied: torch in /share/pkg.8/academic-ml/fall-2024/install/fall-2024-pyt/lib/python3.11/site-packages (2.4.0)\n",
      "Requirement already satisfied: torchvision in /share/pkg.8/academic-ml/fall-2024/install/fall-2024-pyt/lib/python3.11/site-packages (0.19.0)\n",
      "Requirement already satisfied: filelock in /share/pkg.8/academic-ml/fall-2024/install/fall-2024-pyt/lib/python3.11/site-packages (from torch) (3.15.4)\n",
      "Requirement already satisfied: typing-extensions>=4.8.0 in /share/pkg.8/academic-ml/fall-2024/install/fall-2024-pyt/lib/python3.11/site-packages (from torch) (4.12.2)\n",
      "Requirement already satisfied: sympy in /share/pkg.8/academic-ml/fall-2024/install/fall-2024-pyt/lib/python3.11/site-packages (from torch) (1.13.0)\n",
      "Requirement already satisfied: networkx in /share/pkg.8/academic-ml/fall-2024/install/fall-2024-pyt/lib/python3.11/site-packages (from torch) (3.3)\n",
      "Requirement already satisfied: jinja2 in /share/pkg.8/academic-ml/fall-2024/install/fall-2024-pyt/lib/python3.11/site-packages (from torch) (3.1.4)\n",
      "Requirement already satisfied: fsspec in /share/pkg.8/academic-ml/fall-2024/install/fall-2024-pyt/lib/python3.11/site-packages (from torch) (2024.5.0)\n",
      "Requirement already satisfied: numpy in /share/pkg.8/academic-ml/fall-2024/install/fall-2024-pyt/lib/python3.11/site-packages (from torchvision) (1.26.4)\n",
      "Requirement already satisfied: pillow!=8.3.*,>=5.3.0 in /share/pkg.8/academic-ml/fall-2024/install/fall-2024-pyt/lib/python3.11/site-packages (from torchvision) (10.4.0)\n",
      "Requirement already satisfied: MarkupSafe>=2.0 in /share/pkg.8/academic-ml/fall-2024/install/fall-2024-pyt/lib/python3.11/site-packages (from jinja2->torch) (2.1.5)\n",
      "Requirement already satisfied: mpmath<1.4,>=1.1.0 in /share/pkg.8/academic-ml/fall-2024/install/fall-2024-pyt/lib/python3.11/site-packages (from sympy->torch) (1.3.0)\n"
     ]
    }
   ],
   "source": [
    "!pip3 install torch torchvision"
   ]
  },
  {
   "cell_type": "markdown",
   "metadata": {
    "id": "u_BekZYY9Vzx"
   },
   "source": [
    "Make sure that pytorch is installed and works with GPU:"
   ]
  },
  {
   "cell_type": "code",
   "execution_count": 4,
   "metadata": {
    "colab": {
     "base_uri": "https://localhost:8080/"
    },
    "id": "8TXSJWQa9efx",
    "outputId": "fed37889-0014-44d0-ec1c-07a0961e375f"
   },
   "outputs": [
    {
     "name": "stdout",
     "output_type": "stream",
     "text": [
      "tensor([1.], device='cuda:0')\n"
     ]
    }
   ],
   "source": [
    "import torch\n",
    "a = torch.Tensor([1]).cuda()\n",
    "print(a)\n"
   ]
  },
  {
   "cell_type": "code",
   "execution_count": null,
   "metadata": {
    "id": "nO1JLJ7uXvsu"
   },
   "outputs": [],
   "source": []
  },
  {
   "cell_type": "code",
   "execution_count": 5,
   "metadata": {
    "colab": {
     "base_uri": "https://localhost:8080/"
    },
    "id": "OEeRNsCjRXZK",
    "outputId": "3c8b4338-46dd-45ed-be08-c11a4a7aab14"
   },
   "outputs": [
    {
     "data": {
      "text/plain": [
       "True"
      ]
     },
     "execution_count": 5,
     "metadata": {},
     "output_type": "execute_result"
    }
   ],
   "source": [
    "torch.cuda.is_available()"
   ]
  },
  {
   "cell_type": "code",
   "execution_count": 6,
   "metadata": {
    "id": "IlyCnvf6WzjR"
   },
   "outputs": [],
   "source": [
    "# imports and useful functions\n",
    "\n",
    "from __future__ import print_function\n",
    "from PIL import Image\n",
    "import os\n",
    "import os.path\n",
    "import numpy as np\n",
    "import sys\n",
    "if sys.version_info[0] == 2:\n",
    "    import cPickle as pickle\n",
    "else:\n",
    "    import pickle\n",
    "\n",
    "import torch.utils.data as data\n",
    "from torchvision.datasets.utils import download_url, check_integrity\n",
    "import copy\n",
    "import csv\n",
    "import matplotlib\n",
    "%matplotlib inline\n",
    "import matplotlib.pyplot as plt\n",
    "import numpy as np\n",
    "import os.path\n",
    "from tqdm.notebook import tqdm\n",
    "import sys\n",
    "import torch\n",
    "import torch.utils.data\n",
    "import torchvision\n",
    "import torchvision.transforms as transforms\n",
    "\n",
    "from torch.autograd import Variable\n",
    "import torch.nn as nn\n",
    "import torch.nn.functional as F\n",
    "\n",
    "np.random.seed(111)\n",
    "torch.cuda.manual_seed_all(111)\n",
    "torch.manual_seed(111)\n",
    "\n",
    "\n",
    "class CIFAR10Test(torchvision.datasets.VisionDataset):\n",
    "    def __init__(self, root, transform=None,\n",
    "    ):\n",
    "        super(CIFAR10Test, self).__init__(root, transform=transform)\n",
    "\n",
    "        image_filename = os.path.join(root, 'cifar10_test_images.npy')\n",
    "        images = np.load(image_filename)\n",
    "\n",
    "        assert len(images.shape) == 4\n",
    "        assert images.shape[0] == 2000\n",
    "        assert images.shape[1] == 32\n",
    "        assert images.shape[2] == 32\n",
    "        assert images.shape[3] == 3\n",
    "\n",
    "        self.data = images\n",
    "\n",
    "    def __getitem__(self, index):\n",
    "        img = self.data[index]\n",
    "\n",
    "        # doing this so that it is consistent with all other datasets\n",
    "        # to return a PIL Image\n",
    "        img = Image.fromarray(img)\n",
    "\n",
    "        if self.transform is not None:\n",
    "            img = self.transform(img)\n",
    "\n",
    "        return img\n",
    "\n",
    "    def __len__(self):\n",
    "        return len(self.data)\n",
    "\n",
    "\n",
    "def calculate_accuracy(dataloader, model, is_gpu):\n",
    "    \"\"\" Util function to calculate val set accuracy,\n",
    "    both overall and per class accuracy\n",
    "    Args:\n",
    "        dataloader (torch.utils.data.DataLoader): val set\n",
    "        is_gpu (bool): whether to run on GPU\n",
    "    Returns:\n",
    "        tuple: (overall accuracy, class level accuracy)\n",
    "    \"\"\"\n",
    "    correct = 0.\n",
    "    total = 0.\n",
    "    predictions = []\n",
    "\n",
    "    class_correct = list(0. for i in range(TOTAL_CLASSES))\n",
    "    class_total = list(0. for i in range(TOTAL_CLASSES))\n",
    "\n",
    "    # Check out why .eval() is important!\n",
    "    # https://discuss.pytorch.org/t/model-train-and-model-eval-vs-model-and-model-eval/5744/2\n",
    "    model.eval()\n",
    "\n",
    "    with torch.no_grad():\n",
    "      for data in dataloader:\n",
    "          images, labels = data\n",
    "          if is_gpu:\n",
    "              images = images.cuda()\n",
    "              labels = labels.cuda()\n",
    "          outputs = model(Variable(images))\n",
    "          _, predicted = torch.max(outputs.data, 1)\n",
    "          predictions.extend(list(predicted.cpu().numpy()))\n",
    "          total += labels.size(0)\n",
    "          correct += (predicted == labels).sum()\n",
    "\n",
    "          c = (predicted == labels).squeeze()\n",
    "          for i in range(len(labels)):\n",
    "              label = labels[i]\n",
    "              class_correct[label] += c[i].cpu()\n",
    "              class_total[label] += 1\n",
    "\n",
    "    class_accuracy = 100 * np.divide(class_correct, class_total)\n",
    "    return 100*correct/total, class_accuracy\n",
    "\n",
    "\n",
    "def run_secret_test(dataloader, model, is_gpu):\n",
    "    predictions = []\n",
    "    model.eval()\n",
    "\n",
    "    with torch.no_grad():\n",
    "      for images in dataloader:\n",
    "          if is_gpu:\n",
    "              images = images.cuda()\n",
    "          outputs = model(Variable(images))\n",
    "          predicted = torch.softmax(outputs, dim=1).cpu().numpy()\n",
    "          predictions.extend(list(predicted))\n",
    "\n",
    "    return predictions\n"
   ]
  },
  {
   "cell_type": "markdown",
   "metadata": {
    "id": "JpFMv7HtcII4"
   },
   "source": [
    "\n",
    "Training an image classifier\n",
    "----------------------------\n",
    "\n",
    "We will do the following steps in order:\n",
    "\n",
    "1. Load the randomized CIFAR10 training, validation and test datasets using\n",
    "   torchvision. Use torchvision.transforms to apply transforms on the\n",
    "   dataset.\n",
    "2. Define a Convolution Neural Network - BaseNet\n",
    "3. Define a loss function and optimizer\n",
    "4. Train the network on training data and check performance on val set.\n",
    "   Plot train loss and validation accuracies.\n",
    "5. Try the network on test data and create .npy file for submission to Gradescope"
   ]
  },
  {
   "cell_type": "code",
   "execution_count": 7,
   "metadata": {
    "colab": {
     "base_uri": "https://localhost:8080/"
    },
    "id": "t54-B8QwSGaS",
    "outputId": "62b4d0ea-09f6-4716-e779-5d8623550f2a"
   },
   "outputs": [
    {
     "name": "stdout",
     "output_type": "stream",
     "text": [
      "/projectnb/cs585bp/students/xananya/CS_585_PS2\n"
     ]
    }
   ],
   "source": [
    "import os\n",
    "print(os.getcwd())"
   ]
  },
  {
   "cell_type": "code",
   "execution_count": 8,
   "metadata": {
    "id": "Ld6juH34dWWq"
   },
   "outputs": [],
   "source": [
    "# <<TODO>>: Based on the val set performance, decide how many\n",
    "# epochs are apt for your model.\n",
    "# ---------\n",
    "EPOCHS = 20\n",
    "# ---------\n",
    "\n",
    "IS_GPU = True\n",
    "TEST_BS = 256\n",
    "TOTAL_CLASSES = 10\n",
    "TRAIN_BS = 32\n",
    "PATH_TO_CIFAR10 = \"data/cifar10/\"\n",
    "PATH_TO_CIFAR10_TEST = \"data/cifar10/cifar10-test\""
   ]
  },
  {
   "cell_type": "markdown",
   "metadata": {
    "id": "aq2qOUaJeAWJ"
   },
   "source": [
    "1.**Loading CIFAR-10**\n",
    "\n",
    "We will load the CIFAR-10 dataset with builtin dataset loader from Torchvision. We also created our own train, validation and test splits. You can download them using this link: https://drive.google.com/drive/folders/1qmfLQ8hso5qrN9kyobmKKiCl0PWBdLhK?usp=sharing . Upload the file to colab."
   ]
  },
  {
   "cell_type": "code",
   "execution_count": 9,
   "metadata": {
    "colab": {
     "base_uri": "https://localhost:8080/"
    },
    "id": "gttVqAi8mKPm",
    "outputId": "bfb6e58a-e615-48cf-e3bd-06bdaa6841d7"
   },
   "outputs": [
    {
     "name": "stdout",
     "output_type": "stream",
     "text": [
      "unzip:  cannot find or open /content/cifar10_splits.zip, /content/cifar10_splits.zip.zip or /content/cifar10_splits.zip.ZIP.\n"
     ]
    }
   ],
   "source": [
    "!unzip -qqo /content/cifar10_splits.zip"
   ]
  },
  {
   "cell_type": "code",
   "execution_count": 10,
   "metadata": {
    "colab": {
     "base_uri": "https://localhost:8080/"
    },
    "id": "C2UcDZmtdfq3",
    "outputId": "9fde9c54-e0eb-433d-f39f-7744bf599863"
   },
   "outputs": [
    {
     "name": "stdout",
     "output_type": "stream",
     "text": [
      "Files already downloaded and verified\n",
      "train_dataset data shape:  (50000, 32, 32, 3)\n",
      "train_dataset labels shape:  (50000,)\n",
      "\n",
      "val_dataset data shape:  (8000, 32, 32, 3)\n",
      "val_dataset labels shape: (8000,)\n"
     ]
    }
   ],
   "source": [
    "# The output of torchvision datasets are PILImage images of range [0, 1].\n",
    "# Using transforms.ToTensor(), transform them to Tensors of normalized range\n",
    "# [-1, 1].\n",
    "\n",
    "import torchvision.transforms as transforms\n",
    "# <<TODO#1>> Use transforms.Normalize() with the right parameters to\n",
    "# make the data well conditioned (zero mean, std dev=1) for improved training.\n",
    "# <<TODO#2>> Try using transforms.RandomCrop() and/or transforms.RandomHorizontalFlip()\n",
    "# to augment training data.\n",
    "# After your edits, make sure that test_transform should have the same data\n",
    "# normalization parameters as train_transform\n",
    "# You shouldn't have any data augmentation in test_transform (val or test data is never augmented).\n",
    "# ---------------------\n",
    "train_transform = transforms.Compose([\n",
    "    transforms.RandomCrop(32, padding=4),\n",
    "    transforms.RandomHorizontalFlip(p=0.5),\n",
    "    transforms.RandomRotation(15),  # Add rotation\n",
    "    transforms.ColorJitter(brightness=0.2, contrast=0.2, saturation=0.2),  # Add color jitter\n",
    "    transforms.ToTensor(),\n",
    "    transforms.Normalize(mean=[0.4914, 0.4822, 0.4465], std=[0.2470, 0.2435, 0.2616])\n",
    "])\n",
    "\n",
    "test_transform = transforms.Compose([\n",
    "   transforms.ToTensor(),\n",
    "   transforms.Normalize(mean=[0.4914, 0.4822, 0.4465], std=[0.2470, 0.2435, 0.2616])\n",
    "])\n",
    "train_transform = transforms.Compose(\n",
    "    [transforms.ToTensor()])\n",
    "test_transform = transforms.Compose(\n",
    "    [transforms.ToTensor()])\n",
    "# ---------------------\n",
    "\n",
    "#DO NOT CHANGE any line below\n",
    "train_dataset = torchvision.datasets.CIFAR10(root=PATH_TO_CIFAR10, train=True, download=True, transform=train_transform)\n",
    "val_dataset = torchvision.datasets.CIFAR10(root=PATH_TO_CIFAR10, train=False, download=False, transform=test_transform)\n",
    "test_dataset = CIFAR10Test(root=PATH_TO_CIFAR10_TEST, transform=test_transform)\n",
    "\n",
    "val_dataset.data = np.load(\"data/cifar10_val_images.npy\")\n",
    "val_dataset.targets = np.load(\"data/cifar10_val_labels.npy\")\n",
    "test_dataset.data = np.load(\"data/cifar10/cifar10-test/cifar10_test_images.npy\")\n",
    "\n",
    "print(\"train_dataset data shape: \", np.array(train_dataset.data).shape)\n",
    "print(\"train_dataset labels shape: \", np.array(train_dataset.targets).shape)\n",
    "print()\n",
    "print(\"val_dataset data shape: \", np.array(val_dataset.data).shape)\n",
    "print(\"val_dataset labels shape:\", np.array(val_dataset.targets).shape)\n",
    "\n",
    "# check for Dataloader function: https://pytorch.org/docs/stable/data.html\n",
    "trainloader = torch.utils.data.DataLoader(train_dataset, batch_size=TRAIN_BS, shuffle=True, num_workers=2, drop_last=True)  #DO NOT CHANGE\n",
    "valloader = torch.utils.data.DataLoader(val_dataset, batch_size=TEST_BS, shuffle=False, num_workers=2, drop_last=False)\n",
    "testloader = torch.utils.data.DataLoader(test_dataset, batch_size=TEST_BS, shuffle=False, num_workers=2, drop_last=False) #DO NOT CHANGE\n",
    "\n",
    "# The 10 classes for FashionMNIST\n",
    "classes = [\"airplane\", \"automobile\", \"bird\", \"cat\", \"deer\", \"dog\", \"frog\", \"horse\", \"ship\", \"truck\"]"
   ]
  },
  {
   "cell_type": "markdown",
   "metadata": {
    "id": "dk1421Bpleek"
   },
   "source": [
    "2.**Visualize CIFAR-10**\n",
    "\n",
    "We will visualize some random images from the CIFAR-10 dataset."
   ]
  },
  {
   "cell_type": "code",
   "execution_count": 11,
   "metadata": {
    "colab": {
     "base_uri": "https://localhost:8080/",
     "height": 229
    },
    "id": "Lo4hAqbSS3BW",
    "outputId": "32ecccf1-7315-4ea9-cf25-b93d3ed95d30"
   },
   "outputs": [
    {
     "data": {
      "image/png": "[encoded data removed]",
      "text/plain": [
       "<Figure size 640x480 with 1 Axes>"
      ]
     },
     "metadata": {},
     "output_type": "display_data"
    },
    {
     "name": "stdout",
     "output_type": "stream",
     "text": [
      "horse  bird   dog  bird  ship   dog airplane horse truck horse truck  deer truck airplane  bird   dog\n"
     ]
    }
   ],
   "source": [
    "# Let us show some of the training images, for fun.\n",
    "# functions to show an image\n",
    "\n",
    "def imshow(img):\n",
    "    img = img / 2 + 0.5     # unnormalize\n",
    "    npimg = img.numpy()\n",
    "    plt.imshow(np.transpose(npimg, (1, 2, 0)))\n",
    "    plt.show()\n",
    "\n",
    "\n",
    "# get some random training images\n",
    "dataiter = iter(trainloader)\n",
    "images, labels = next(dataiter)\n",
    "\n",
    "# show images\n",
    "imshow(torchvision.utils.make_grid(images[:16]))\n",
    "# print labels\n",
    "print(' '.join('%5s' % classes[labels[j]] for j in range(16)))"
   ]
  },
  {
   "cell_type": "markdown",
   "metadata": {
    "id": "7gVdM0Cwlo6N"
   },
   "source": [
    "3.**Define a Convolution Neural Network**\n",
    "\n",
    "Implement the BaseNet exactly. BaseNet consists of two convolutional modules (conv-relu-maxpool) and two linear layers. The precise architecture is defined below:\n",
    "\n",
    "| Layer No.   | Layer Type  | Kernel Size | Input Dim   | Output Dim  | Input Channels | Output Channels |\n",
    "    | ----------- | ----------- | ----------- | ----------- | ----------- | ----------- | ----------- |\n",
    "    | 1 | conv2d | 5 | 32 | 28 | 3 | 6 |\n",
    "    | 2 | relu | - | 28 | 28 | 6 | 6 |\n",
    "    | 3 | maxpool2d | 2 | 28 | 14 | 6 | 6 |\n",
    "    | 4 | conv2d | 5 | 14 | 10 | 6 | 16 |\n",
    "    | 5 | relu | - | 10 | 10 | 16 | 16 |\n",
    "    | 6 | maxpool2d | 2 | 10 | 5 | 16 | 16 |\n",
    "    | 7 | linear | - | 1 | 1 | 400 | 200 |\n",
    "    | 8 | relu | - | 1 | 1 | 200 | 200 |\n",
    "    | 9 | linear | - | 1 | 1 | 200 | 10 |"
   ]
  },
  {
   "cell_type": "code",
   "execution_count": 17,
   "metadata": {
    "id": "5b_fBznndp4W"
   },
   "outputs": [],
   "source": [
    "########################################################################\n",
    "# We provide a basic network that you should understand, run and\n",
    "# eventually improve\n",
    "# <<TODO>> Add more conv layers\n",
    "# <<TODO>> Add more fully connected (fc) layers\n",
    "# <<TODO>> Add regularization layers like Batchnorm.\n",
    "#          nn.BatchNorm2d after conv layers:\n",
    "#          http://pytorch.org/docs/master/nn.html#batchnorm2d\n",
    "#          nn.BatchNorm1d after fc layers:\n",
    "#          http://pytorch.org/docs/master/nn.html#batchnorm1d\n",
    "# This is a good resource for developing a CNN for classification:\n",
    "# http://cs231n.github.io/convolutional-networks/#layers\n",
    "\n",
    "import torch.nn as nn\n",
    "import torch.nn.functional as F\n",
    "\n",
    "class BaseNet(nn.Module):\n",
    "    def __init__(self):\n",
    "        super(BaseNet, self).__init__()\n",
    "        # First convolutional block\n",
    "        self.conv1 = nn.Conv2d(in_channels=3, out_channels=64, kernel_size=3, padding=1)\n",
    "        self.bn1 = nn.BatchNorm2d(64)\n",
    "        self.conv1_2 = nn.Conv2d(in_channels=64, out_channels=64, kernel_size=3, padding=1)\n",
    "        self.bn1_2 = nn.BatchNorm2d(64)\n",
    "        self.pool = nn.MaxPool2d(kernel_size=2)\n",
    "        \n",
    "        # Second convolutional block\n",
    "        self.conv2 = nn.Conv2d(in_channels=64, out_channels=128, kernel_size=3, padding=1)\n",
    "        self.bn2 = nn.BatchNorm2d(128)\n",
    "        self.conv2_2 = nn.Conv2d(in_channels=128, out_channels=128, kernel_size=3, padding=1)\n",
    "        self.bn2_2 = nn.BatchNorm2d(128)\n",
    "        \n",
    "        # Third convolutional block\n",
    "        self.conv3 = nn.Conv2d(in_channels=128, out_channels=256, kernel_size=3, padding=1)\n",
    "        self.bn3 = nn.BatchNorm2d(256)\n",
    "        self.conv3_2 = nn.Conv2d(in_channels=256, out_channels=256, kernel_size=3, padding=1)\n",
    "        self.bn3_2 = nn.BatchNorm2d(256)\n",
    "        \n",
    "        # Fully connected layers\n",
    "        self.fc1 = nn.Linear(in_features=256*4*4, out_features=1024)\n",
    "        self.bn4 = nn.BatchNorm1d(1024)\n",
    "        self.dropout1 = nn.Dropout(0.5)\n",
    "        \n",
    "        self.fc2 = nn.Linear(in_features=1024, out_features=512)\n",
    "        self.bn5 = nn.BatchNorm1d(512)\n",
    "        self.dropout2 = nn.Dropout(0.5)\n",
    "        \n",
    "        self.fc3 = nn.Linear(in_features=512, out_features=10)\n",
    "        \n",
    "    def forward(self, x):\n",
    "        # First block\n",
    "        x = self.conv1(x)\n",
    "        x = self.bn1(x)\n",
    "        x = F.relu(x)\n",
    "        x = self.conv1_2(x)\n",
    "        x = self.bn1_2(x)\n",
    "        x = F.relu(x)\n",
    "        x = self.pool(x)\n",
    "        \n",
    "        # Second block\n",
    "        x = self.conv2(x)\n",
    "        x = self.bn2(x)\n",
    "        x = F.relu(x)\n",
    "        x = self.conv2_2(x)\n",
    "        x = self.bn2_2(x)\n",
    "        x = F.relu(x)\n",
    "        x = self.pool(x)\n",
    "        \n",
    "        # Third block\n",
    "        x = self.conv3(x)\n",
    "        x = self.bn3(x)\n",
    "        x = F.relu(x)\n",
    "        x = self.conv3_2(x)\n",
    "        x = self.bn3_2(x)\n",
    "        x = F.relu(x)\n",
    "        x = self.pool(x)\n",
    "        \n",
    "        # Flatten\n",
    "        x = x.view(-1, 256*4*4)\n",
    "        \n",
    "        # Fully connected\n",
    "        x = self.fc1(x)\n",
    "        if x.shape[0] > 1:  # Only apply batchnorm if batch size > 1\n",
    "            x = self.bn4(x)\n",
    "        x = F.relu(x)\n",
    "        x = self.dropout1(x)\n",
    "        \n",
    "        x = self.fc2(x)\n",
    "        if x.shape[0] > 1:\n",
    "            x = self.bn5(x)\n",
    "        x = F.relu(x)\n",
    "        x = self.dropout2(x)\n",
    "        \n",
    "        x = self.fc3(x)\n",
    "        return x\n",
    "\n",
    "# Create an instance of the nn.module class defined above:\n",
    "net = BaseNet()\n",
    "\n",
    "# Test your BaseNet with some random input\n",
    "dummy_input = torch.rand((1, 3, 32, 32))\n",
    "output = net(dummy_input)\n",
    "assert output.shape == torch.Size([1, 10])\n",
    "\n",
    "# For training on GPU, we need to transfer net and data onto the GPU\n",
    "# http://pytorch.org/tutorials/beginner/blitz/cifar10_tutorial.html#training-on-gpu\n",
    "if IS_GPU:\n",
    "    net = net.cuda()\n"
   ]
  },
  {
   "cell_type": "code",
   "execution_count": 18,
   "metadata": {
    "colab": {
     "base_uri": "https://localhost:8080/"
    },
    "id": "KTtJrAGjXElg",
    "outputId": "7cc773a8-9eba-4952-a1db-1356fcc9c264"
   },
   "outputs": [
    {
     "name": "stdout",
     "output_type": "stream",
     "text": [
      "BaseNet(\n",
      "  (conv1): Conv2d(3, 64, kernel_size=(3, 3), stride=(1, 1), padding=(1, 1))\n",
      "  (bn1): BatchNorm2d(64, eps=1e-05, momentum=0.1, affine=True, track_running_stats=True)\n",
      "  (conv1_2): Conv2d(64, 64, kernel_size=(3, 3), stride=(1, 1), padding=(1, 1))\n",
      "  (bn1_2): BatchNorm2d(64, eps=1e-05, momentum=0.1, affine=True, track_running_stats=True)\n",
      "  (pool): MaxPool2d(kernel_size=2, stride=2, padding=0, dilation=1, ceil_mode=False)\n",
      "  (conv2): Conv2d(64, 128, kernel_size=(3, 3), stride=(1, 1), padding=(1, 1))\n",
      "  (bn2): BatchNorm2d(128, eps=1e-05, momentum=0.1, affine=True, track_running_stats=True)\n",
      "  (conv2_2): Conv2d(128, 128, kernel_size=(3, 3), stride=(1, 1), padding=(1, 1))\n",
      "  (bn2_2): BatchNorm2d(128, eps=1e-05, momentum=0.1, affine=True, track_running_stats=True)\n",
      "  (conv3): Conv2d(128, 256, kernel_size=(3, 3), stride=(1, 1), padding=(1, 1))\n",
      "  (bn3): BatchNorm2d(256, eps=1e-05, momentum=0.1, affine=True, track_running_stats=True)\n",
      "  (conv3_2): Conv2d(256, 256, kernel_size=(3, 3), stride=(1, 1), padding=(1, 1))\n",
      "  (bn3_2): BatchNorm2d(256, eps=1e-05, momentum=0.1, affine=True, track_running_stats=True)\n",
      "  (fc1): Linear(in_features=4096, out_features=1024, bias=True)\n",
      "  (bn4): BatchNorm1d(1024, eps=1e-05, momentum=0.1, affine=True, track_running_stats=True)\n",
      "  (dropout1): Dropout(p=0.5, inplace=False)\n",
      "  (fc2): Linear(in_features=1024, out_features=512, bias=True)\n",
      "  (bn5): BatchNorm1d(512, eps=1e-05, momentum=0.1, affine=True, track_running_stats=True)\n",
      "  (dropout2): Dropout(p=0.5, inplace=False)\n",
      "  (fc3): Linear(in_features=512, out_features=10, bias=True)\n",
      ")\n"
     ]
    }
   ],
   "source": [
    "# TODO: paste output in your report\n",
    "print(net)"
   ]
  },
  {
   "cell_type": "markdown",
   "metadata": {
    "id": "bZ6wlwMymr2m"
   },
   "source": [
    "4.**Define a loss function and optimizer**"
   ]
  },
  {
   "cell_type": "code",
   "execution_count": 19,
   "metadata": {
    "id": "zAZjIcLOdp-W"
   },
   "outputs": [],
   "source": [
    "########################################################################\n",
    "# Here we use Cross-Entropy loss and SGD with momentum.\n",
    "# The CrossEntropyLoss criterion already includes softmax within its\n",
    "# implementation. That's why we don't use a softmax in our model\n",
    "# definition.\n",
    "\n",
    "import torch.optim as optim\n",
    "criterion = nn.CrossEntropyLoss()\n",
    "\n",
    "# Tune the learning rate.\n",
    "# See whether the momentum and weight decay is useful or not\n",
    "# Optimizer with higher initial learning rate\n",
    "optimizer = optim.Adam(net.parameters(), lr=0.001, weight_decay=1e-4)\n",
    "scheduler = optim.lr_scheduler.CosineAnnealingLR(optimizer, T_max=EPOCHS)"
   ]
  },
  {
   "cell_type": "markdown",
   "metadata": {
    "id": "5bZXUK5Dmv12"
   },
   "source": [
    "5.**Train the model**"
   ]
  },
  {
   "cell_type": "code",
   "execution_count": 20,
   "metadata": {
    "colab": {
     "base_uri": "https://localhost:8080/",
     "height": 576,
     "referenced_widgets": [
      "bacda71ad73f47109de58ffea489c7d3",
      "80d99a831e3143038aad125b021d213e",
      "8deab63944ab4732aa38e372d09faff9",
      "5aa25ad30b7a4f5f89b9c4d7d90e81ba",
      "24e96b58f6f446f5ac2ce7bbadef40de",
      "a45502e041404079b1fcfb3d5e6dd7fa",
      "c2a7c5a0e3d14cb2b7fce30f275e99f2",
      "3ce20778fa634f50a4b9840a14fcee19",
      "8fcae576c0be41388d9537b9d2af3801",
      "3a52e4266bc04d2a994b3421eea362a6",
      "70608c354af64e95b3389431cd5be373"
     ]
    },
    "id": "Ku7eF366dyUP",
    "outputId": "16b44817-9dac-4ccd-cdac-c7291144391e"
   },
   "outputs": [
    {
     "data": {
      "application/vnd.jupyter.widget-view+json": {
       "model_id": "091775efe5af44d98b3e3507137a2f7c",
       "version_major": 2,
       "version_minor": 0
      },
      "text/plain": [
       "  0%|          | 0/20 [00:00<?, ?it/s]"
      ]
     },
     "metadata": {},
     "output_type": "display_data"
    },
    {
     "name": "stdout",
     "output_type": "stream",
     "text": [
      "[1] loss: 1.183\n",
      "Accuracy of the network on the val images: 67 %\n",
      "[2] loss: 0.808\n",
      "Accuracy of the network on the val images: 75 %\n",
      "[3] loss: 0.613\n",
      "Accuracy of the network on the val images: 79 %\n",
      "[4] loss: 0.497\n",
      "Accuracy of the network on the val images: 79 %\n",
      "[5] loss: 0.395\n",
      "Accuracy of the network on the val images: 81 %\n",
      "[6] loss: 0.303\n",
      "Accuracy of the network on the val images: 82 %\n",
      "[7] loss: 0.227\n",
      "Accuracy of the network on the val images: 83 %\n",
      "[8] loss: 0.166\n",
      "Accuracy of the network on the val images: 82 %\n",
      "[9] loss: 0.120\n",
      "Accuracy of the network on the val images: 83 %\n",
      "[10] loss: 0.085\n",
      "Accuracy of the network on the val images: 84 %\n",
      "[11] loss: 0.060\n",
      "Accuracy of the network on the val images: 83 %\n",
      "[12] loss: 0.041\n",
      "Accuracy of the network on the val images: 83 %\n",
      "[13] loss: 0.029\n",
      "Accuracy of the network on the val images: 84 %\n",
      "[14] loss: 0.016\n",
      "Accuracy of the network on the val images: 84 %\n",
      "[15] loss: 0.010\n",
      "Accuracy of the network on the val images: 84 %\n",
      "[16] loss: 0.005\n",
      "Accuracy of the network on the val images: 84 %\n",
      "[17] loss: 0.002\n",
      "Accuracy of the network on the val images: 85 %\n",
      "[18] loss: 0.001\n",
      "Accuracy of the network on the val images: 85 %\n",
      "[19] loss: 0.001\n",
      "Accuracy of the network on the val images: 85 %\n",
      "[20] loss: 0.001\n",
      "Accuracy of the network on the val images: 85 %\n",
      "Finished Training\n"
     ]
    }
   ],
   "source": [
    "########################################################################\n",
    "# We simply have to loop over our data iterator, and feed the inputs to the\n",
    "# network and optimize. We evaluate the validation accuracy at each\n",
    "# epoch and plot these values over the number of epochs\n",
    "# Nothing to change here\n",
    "# -----------------------------\n",
    "plt.ioff()\n",
    "fig = plt.figure()\n",
    "train_loss_over_epochs = []\n",
    "val_accuracy_over_epochs = []\n",
    "\n",
    "for epoch in tqdm(range(EPOCHS), total=EPOCHS):  # loop over the dataset multiple times\n",
    "\n",
    "    running_loss = 0.0\n",
    "    for i, data in enumerate(trainloader, 0):\n",
    "        # get the inputs\n",
    "        inputs, labels = data\n",
    "\n",
    "        if IS_GPU:\n",
    "            inputs = inputs.cuda()\n",
    "            labels = labels.cuda()\n",
    "\n",
    "        # zero the parameter gradients\n",
    "        optimizer.zero_grad()\n",
    "\n",
    "        # forward + backward + optimize\n",
    "        outputs = net(inputs)\n",
    "        loss = criterion(outputs, labels)\n",
    "        loss.backward()\n",
    "        optimizer.step()\n",
    "\n",
    "        # print statistics\n",
    "        running_loss += loss.item()\n",
    "\n",
    "    # Normalizing the loss by the total number of train batches\n",
    "    running_loss/=len(trainloader)\n",
    "    print('[%d] loss: %.3f' %\n",
    "          (epoch + 1, running_loss))\n",
    "\n",
    "    # Scale of 0.0 to 100.0\n",
    "    # Calculate validation set accuracy of the existing model\n",
    "    val_accuracy, val_classwise_accuracy = \\\n",
    "        calculate_accuracy(valloader, net, IS_GPU)\n",
    "    print('Accuracy of the network on the val images: %d %%' % (val_accuracy))\n",
    "\n",
    "    scheduler.step()\n",
    "\n",
    "    # # Optionally print classwise accuracies\n",
    "    # for c_i in range(TOTAL_CLASSES):\n",
    "    #     print('Accuracy of %5s : %2d %%' % (\n",
    "    #         classes[c_i], 100 * val_classwise_accuracy[c_i]))\n",
    "\n",
    "    train_loss_over_epochs.append(running_loss)\n",
    "    val_accuracy_over_epochs.append(val_accuracy.cpu())\n",
    "# -----------------------------\n",
    "\n",
    "\n",
    "# Plot train loss over epochs and val set accuracy over epochs\n",
    "# Nothing to change here\n",
    "# -------------\n",
    "plt.subplot(2, 1, 1)\n",
    "plt.ylabel('Train loss')\n",
    "plt.plot(np.arange(EPOCHS), train_loss_over_epochs, 'k-')\n",
    "plt.title('train loss and val accuracy')\n",
    "plt.xticks(np.arange(EPOCHS, dtype=int))\n",
    "plt.grid(True)\n",
    "\n",
    "plt.subplot(2, 1, 2)\n",
    "plt.plot(np.arange(EPOCHS), val_accuracy_over_epochs, 'b-')\n",
    "plt.ylabel('Val accuracy')\n",
    "plt.xlabel('Epochs')\n",
    "plt.xticks(np.arange(EPOCHS, dtype=int))\n",
    "plt.grid(True)\n",
    "plt.savefig(\"content/mp4_q1_plot.png\")\n",
    "plt.close(fig)\n",
    "print('Finished Training')\n",
    "# -------------"
   ]
  },
  {
   "cell_type": "markdown",
   "metadata": {
    "id": "pQUWyGBcm0FG"
   },
   "source": [
    "6.**Evaluate the validation accuracy of your final model**"
   ]
  },
  {
   "cell_type": "code",
   "execution_count": 21,
   "metadata": {
    "colab": {
     "base_uri": "https://localhost:8080/"
    },
    "id": "v1GE8t3mRdy9",
    "outputId": "0e533d9e-5f4f-4e60-e43a-ec41e51e9f5f"
   },
   "outputs": [
    {
     "name": "stdout",
     "output_type": "stream",
     "text": [
      "Accuracy of the final network on the val images: 85.1 %\n",
      "Accuracy of airplane : 87.9 %\n",
      "Accuracy of automobile : 91.7 %\n",
      "Accuracy of  bird : 75.5 %\n",
      "Accuracy of   cat : 71.8 %\n",
      "Accuracy of  deer : 82.4 %\n",
      "Accuracy of   dog : 79.2 %\n",
      "Accuracy of  frog : 89.9 %\n",
      "Accuracy of horse : 89.6 %\n",
      "Accuracy of  ship : 90.3 %\n",
      "Accuracy of truck : 92.0 %\n"
     ]
    }
   ],
   "source": [
    "val_accuracy, val_classwise_accuracy = \\\n",
    "        calculate_accuracy(valloader, net, IS_GPU)\n",
    "print('Accuracy of the final network on the val images: %.1f %%' % (val_accuracy))\n",
    "\n",
    "# Optionally print classwise accuracies\n",
    "for c_i in range(TOTAL_CLASSES):\n",
    "    print('Accuracy of %5s : %.1f %%' % (\n",
    "        classes[c_i], val_classwise_accuracy[c_i]))\n"
   ]
  },
  {
   "cell_type": "markdown",
   "metadata": {
    "id": "d4mbmrI2m6cc"
   },
   "source": [
    "7.**Visualize test set images**"
   ]
  },
  {
   "cell_type": "code",
   "execution_count": 22,
   "metadata": {
    "colab": {
     "base_uri": "https://localhost:8080/",
     "height": 192
    },
    "id": "lumxYpO7R0Fk",
    "outputId": "502184dd-8fab-4e25-f3f8-bb033a9dd14a"
   },
   "outputs": [
    {
     "data": {
      "image/png": "[encoded data removed]",
      "text/plain": [
       "<Figure size 640x480 with 1 Axes>"
      ]
     },
     "metadata": {},
     "output_type": "display_data"
    }
   ],
   "source": [
    "# get some random training images\n",
    "dataiter = iter(testloader)\n",
    "images = next(dataiter)\n",
    "\n",
    "# show images\n",
    "imshow(torchvision.utils.make_grid(images[:16]))"
   ]
  },
  {
   "cell_type": "markdown",
   "metadata": {
    "id": "FViai01ZsVeu"
   },
   "source": [
    "8.**Evaluate your final model on the test set**\n",
    "\n",
    "Submit `predictions.npy` to Gradescope to see your model's performance on the test set."
   ]
  },
  {
   "cell_type": "code",
   "execution_count": 23,
   "metadata": {
    "id": "bLkObaKujdaE"
   },
   "outputs": [],
   "source": [
    "# run inference on the test set\n",
    "predictions = run_secret_test(testloader, net, IS_GPU)\n",
    "# save predictions\n",
    "predictions = np.asarray(predictions)\n",
    "np.save(\"Q1_label_predictions.npy\", predictions)"
   ]
  },
  {
   "cell_type": "markdown",
   "metadata": {
    "id": "UupOrBZmj_yU"
   },
   "source": [
    "#**Q2: Surface normal estimation**"
   ]
  },
  {
   "cell_type": "markdown",
   "metadata": {
    "id": "o-LOCbCfTwU9"
   },
   "source": [
    "Download the data (taskonomy_resize_128_public.zip) from google drive using this link (https://drive.google.com/file/d/1EhaGeojCBgoYtsdilTbGd81-95VSgmAP/view?usp=sharing) and upload it to colab.\n",
    "\n",
    "\n"
   ]
  },
  {
   "cell_type": "code",
   "execution_count": 24,
   "metadata": {
    "id": "-CQENDOfIvcu"
   },
   "outputs": [],
   "source": [
    "!unzip -qqo taskonomy_resize_128_public.zip"
   ]
  },
  {
   "cell_type": "markdown",
   "metadata": {
    "id": "geohpotit_Ek"
   },
   "source": []
  },
  {
   "cell_type": "code",
   "execution_count": 25,
   "metadata": {
    "id": "UzpXeiVddIdi"
   },
   "outputs": [],
   "source": [
    "import glob\n",
    "import os\n",
    "import numpy as np\n",
    "import random\n",
    "import time\n",
    "from tqdm.notebook import tqdm\n",
    "import matplotlib.pyplot as plt\n",
    "\n",
    "import cv2\n",
    "from PIL import Image\n",
    "import torch\n",
    "import torch.nn as nn\n",
    "import torch.nn.functional as F\n",
    "from torch.utils import data\n",
    "from torchvision import models\n",
    "from torchvision.transforms import ToTensor, Normalize"
   ]
  },
  {
   "cell_type": "code",
   "execution_count": 26,
   "metadata": {
    "id": "qLe8xge2WCit"
   },
   "outputs": [],
   "source": [
    "# global variable\n",
    "device = torch.device(\"cuda:0\")"
   ]
  },
  {
   "cell_type": "code",
   "execution_count": 27,
   "metadata": {
    "id": "RTlJmzl7dR4_"
   },
   "outputs": [],
   "source": [
    "class NormalDataset(data.Dataset):\n",
    "    \"\"\"\n",
    "    Data loader for the Suface Normal Dataset. If data loading is a bottleneck,\n",
    "    you may want to optimize this in for faster training. Possibilities include\n",
    "    pre-loading all images and annotations into memory before training, so as\n",
    "    to limit delays due to disk reads.\n",
    "    \"\"\"\n",
    "    def __init__(self, split=\"train\", data_dir=\"./taskonomy_resize_128_public\"):\n",
    "        assert(split in [\"train\", \"val\"])\n",
    "        split2name = {\n",
    "            \"train\": \"allensville\",\n",
    "            \"val\": \"beechwood\",\n",
    "        }\n",
    "        self.img_dir = os.path.join(data_dir, split2name[split] + \"_rgb\")\n",
    "        self.gt_dir = os.path.join(data_dir, split2name[split] + \"_normal\")\n",
    "\n",
    "        self.split = split\n",
    "        self.filenames = [\n",
    "            os.path.splitext(os.path.basename(l))[0] for l in glob.glob(self.img_dir + \"/*.png\")\n",
    "        ]\n",
    "\n",
    "    def __len__(self):\n",
    "        return len(self.filenames)\n",
    "\n",
    "    def __getitem__(self, index):\n",
    "        filename = self.filenames[index]\n",
    "        img = Image.open(os.path.join(self.img_dir, filename) + \".png\")\n",
    "        img = np.asarray(img).copy()\n",
    "        gt = Image.open(os.path.join(self.gt_dir, filename.replace(\"_rgb\", \"_normal\")) + \".png\")\n",
    "        gt = np.asarray(gt)\n",
    "\n",
    "        # from rgb image to surface normal\n",
    "        gt = gt.astype(np.float32) / 255\n",
    "        gt = torch.Tensor(np.asarray(gt).copy()).permute((2, 0, 1))\n",
    "        mask = self.build_mask(gt).to(torch.float)\n",
    "\n",
    "        img = ToTensor()(img)\n",
    "        img = Normalize([0.485, 0.456, 0.406], [0.229, 0.224, 0.225])(img)\n",
    "\n",
    "        # normalize gt\n",
    "        gt = gt * 2 - 1\n",
    "\n",
    "        return img.contiguous(), gt, mask.sum(dim=0) > 0\n",
    "\n",
    "    @staticmethod\n",
    "    def build_mask(target, val=0.502, tol=1e-3):\n",
    "        target = target.unsqueeze(0)\n",
    "        if target.shape[1] == 1:\n",
    "            mask = ((target >= val - tol) & (target <= val + tol))\n",
    "            mask = F.conv2d(mask.float(), torch.ones(1, 1, 5, 5, device=mask.device), padding=2) != 0\n",
    "            return (~mask).expand_as(target).squeeze(0)\n",
    "\n",
    "        mask1 = (target[:, 0, :, :] >= val - tol) & (target[:, 0, :, :] <= val + tol)\n",
    "        mask2 = (target[:, 1, :, :] >= val - tol) & (target[:, 1, :, :] <= val + tol)\n",
    "        mask3 = (target[:, 2, :, :] >= val - tol) & (target[:, 2, :, :] <= val + tol)\n",
    "        mask = (mask1 & mask2 & mask3).unsqueeze(1)\n",
    "        mask = F.conv2d(mask.float(), torch.ones(1, 1, 5, 5, device=mask.device), padding=2) != 0\n",
    "        return (~mask).expand_as(target).squeeze(0)"
   ]
  },
  {
   "cell_type": "code",
   "execution_count": 28,
   "metadata": {
    "id": "4oMHIGsCdckB"
   },
   "outputs": [],
   "source": [
    "##########\n",
    "#TODO: design your own network here. The expectation is to write from scratch. But it's okay to get some inspiration\n",
    "#from conference paper. The bottom line is that you will not just copy code from other repo\n",
    "##########\n",
    "class MyModel(nn.Module):\n",
    "   def __init__(self):\n",
    "       super(MyModel, self).__init__()\n",
    "       \n",
    "       resnet = models.resnet18(pretrained=True)\n",
    "       \n",
    "       self.conv1 = resnet.conv1\n",
    "       self.bn1 = resnet.bn1\n",
    "       self.relu = resnet.relu\n",
    "       self.maxpool = resnet.maxpool\n",
    "       self.layer1 = resnet.layer1\n",
    "       self.layer2 = resnet.layer2\n",
    "       self.layer3 = resnet.layer3\n",
    "       self.layer4 = resnet.layer4\n",
    "       \n",
    "       self.upconv4 = nn.ConvTranspose2d(512, 256, kernel_size=4, stride=2, padding=1, bias=False)\n",
    "       self.bn4 = nn.BatchNorm2d(256)\n",
    "       \n",
    "       self.upconv3 = nn.ConvTranspose2d(512, 128, kernel_size=4, stride=2, padding=1, bias=False)\n",
    "       self.bn3 = nn.BatchNorm2d(128)\n",
    "       \n",
    "       self.upconv2 = nn.ConvTranspose2d(256, 64, kernel_size=4, stride=2, padding=1, bias=False)\n",
    "       self.bn2 = nn.BatchNorm2d(64)\n",
    "       \n",
    "       self.upconv1 = nn.ConvTranspose2d(128, 32, kernel_size=4, stride=2, padding=1, bias=False)\n",
    "       self.bn1_up = nn.BatchNorm2d(32)\n",
    "       \n",
    "       self.upconv0 = nn.ConvTranspose2d(32, 16, kernel_size=4, stride=2, padding=1, bias=False)\n",
    "       self.bn0 = nn.BatchNorm2d(16)\n",
    "       \n",
    "       self.final_conv = nn.Conv2d(16, 3, kernel_size=3, padding=1)\n",
    "   \n",
    "   def forward(self, x):\n",
    "       x0 = self.conv1(x)\n",
    "       x0 = self.bn1(x0)\n",
    "       x0 = self.relu(x0)\n",
    "       \n",
    "       x1 = self.maxpool(x0)\n",
    "       x1 = self.layer1(x1)\n",
    "       \n",
    "       x2 = self.layer2(x1)\n",
    "       x3 = self.layer3(x2)\n",
    "       x4 = self.layer4(x3)\n",
    "       \n",
    "       d4 = self.relu(self.bn4(self.upconv4(x4)))\n",
    "       d4 = torch.cat([d4, x3], dim=1)\n",
    "       \n",
    "       d3 = self.relu(self.bn3(self.upconv3(d4)))\n",
    "       d3 = torch.cat([d3, x2], dim=1)\n",
    "       \n",
    "       d2 = self.relu(self.bn2(self.upconv2(d3)))\n",
    "       d2 = torch.cat([d2, x1], dim=1)\n",
    "       \n",
    "       d1 = self.relu(self.bn1_up(self.upconv1(d2)))\n",
    "       \n",
    "       d0 = self.relu(self.bn0(self.upconv0(d1)))\n",
    "       \n",
    "       output = self.final_conv(d0)\n",
    "       \n",
    "       return F.normalize(output, p=2, dim=1)\n",
    "\n"
   ]
  },
  {
   "cell_type": "code",
   "execution_count": 29,
   "metadata": {
    "id": "D6Dtn7yudjC8"
   },
   "outputs": [],
   "source": [
    "##########\n",
    "#TODO: define your loss function here\n",
    "##########\n",
    "class MyCriterion(nn.Module):\n",
    "    def __init__(self):\n",
    "        super(MyCriterion, self).__init__()\n",
    "        \n",
    "    def forward(self, prediction, target, mask):\n",
    "        # Add a small epsilon to avoid division by zero\n",
    "        prediction_normalized = F.normalize(prediction, p=2, dim=1, eps=1e-8)\n",
    "        target_normalized = F.normalize(target, p=2, dim=1, eps=1e-8)\n",
    "        \n",
    "        # Calculate cosine similarity\n",
    "        cos_sim = torch.sum(prediction_normalized * target_normalized, dim=1)\n",
    "        \n",
    "        # Clamp the values with a small margin for numerical stability\n",
    "        cos_sim = torch.clamp(cos_sim, -0.999999, 0.999999)\n",
    "        \n",
    "        # L1 loss instead of directly using acos\n",
    "        loss = 1 - cos_sim\n",
    "        \n",
    "        # Apply mask\n",
    "        masked_loss = loss[mask]\n",
    "        \n",
    "        return masked_loss.mean()\n"
   ]
  },
  {
   "cell_type": "code",
   "execution_count": 30,
   "metadata": {
    "id": "okJ-P_JGesKq"
   },
   "outputs": [],
   "source": [
    "def simple_train(model, criterion, optimizer, train_dataloader, epoch, **kwargs):\n",
    "    model.train()\n",
    "    \n",
    "    running_loss = 0.0\n",
    "    valid_batches = 0\n",
    "    \n",
    "    for i, (images, targets, masks) in enumerate(train_dataloader):\n",
    "        images = images.to(device)\n",
    "        targets = targets.to(device)\n",
    "        masks = masks.to(device)\n",
    "        \n",
    "        optimizer.zero_grad()\n",
    "        \n",
    "        outputs = model(images)\n",
    "        loss = criterion(outputs, targets, masks)\n",
    "        \n",
    "        # Check for NaN and skip problematic batches\n",
    "        if torch.isnan(loss).item():\n",
    "            print(f\"Encountered NaN loss in batch {i}, skipping...\")\n",
    "            continue\n",
    "            \n",
    "        loss.backward()\n",
    "        \n",
    "        # Gradient clipping to prevent exploding gradients\n",
    "        torch.nn.utils.clip_grad_norm_(model.parameters(), max_norm=1.0)\n",
    "        \n",
    "        optimizer.step()\n",
    "        \n",
    "        running_loss += loss.item()\n",
    "        valid_batches += 1\n",
    "        \n",
    "        if i % 20 == 19:\n",
    "            avg_loss = running_loss / valid_batches if valid_batches > 0 else float('nan')\n",
    "            print(f'Epoch: {epoch+1}, Batch: {i+1}, Loss: {avg_loss:.4f}')\n",
    "            running_loss = 0.0\n",
    "            valid_batches = 0\n",
    "    \n",
    "    return model\n"
   ]
  },
  {
   "cell_type": "code",
   "execution_count": 31,
   "metadata": {
    "id": "3sJiJPb3huXK"
   },
   "outputs": [
    {
     "name": "stderr",
     "output_type": "stream",
     "text": [
      "/share/pkg.8/academic-ml/fall-2024/install/fall-2024-pyt/lib/python3.11/site-packages/torchvision/models/_utils.py:208: UserWarning: The parameter 'pretrained' is deprecated since 0.13 and may be removed in the future, please use 'weights' instead.\n",
      "  warnings.warn(\n",
      "/share/pkg.8/academic-ml/fall-2024/install/fall-2024-pyt/lib/python3.11/site-packages/torchvision/models/_utils.py:223: UserWarning: Arguments other than a weight enum or `None` for 'weights' are deprecated since 0.13 and may be removed in the future. The current behavior is equivalent to passing `weights=ResNet18_Weights.IMAGENET1K_V1`. You can also use `weights=ResNet18_Weights.DEFAULT` to get the most up-to-date weights.\n",
      "  warnings.warn(msg)\n"
     ]
    },
    {
     "name": "stdout",
     "output_type": "stream",
     "text": [
      "Epoch: 1, Batch: 20, Loss: 0.7382\n",
      "Epoch: 1, Batch: 40, Loss: 0.5857\n",
      "Epoch 1\n",
      "Validation Loss: 0.4732\n",
      "Mean Angular Error: 54.28°\n",
      "Median Angular Error: 50.10°\n",
      "Accuracy @ 11.25°: 3.38%\n",
      "Accuracy @ 22.5°: 12.98%\n",
      "Accuracy @ 30°: 22.04%\n",
      "Saved best model!\n",
      "--------------------------------------------------\n",
      "Epoch: 2, Batch: 20, Loss: 0.3901\n",
      "Epoch: 2, Batch: 40, Loss: 0.3170\n",
      "Epoch 2\n",
      "Validation Loss: 0.3276\n",
      "Mean Angular Error: 43.43°\n",
      "Median Angular Error: 40.69°\n",
      "Accuracy @ 11.25°: 6.02%\n",
      "Accuracy @ 22.5°: 20.49%\n",
      "Accuracy @ 30°: 32.37%\n",
      "Saved best model!\n",
      "--------------------------------------------------\n",
      "Epoch: 3, Batch: 20, Loss: 0.2456\n",
      "Epoch: 3, Batch: 40, Loss: 0.2162\n",
      "Epoch 3\n",
      "Validation Loss: 0.2717\n",
      "Mean Angular Error: 39.09°\n",
      "Median Angular Error: 36.94°\n",
      "Accuracy @ 11.25°: 7.70%\n",
      "Accuracy @ 22.5°: 24.55%\n",
      "Accuracy @ 30°: 37.73%\n",
      "Saved best model!\n",
      "--------------------------------------------------\n",
      "Epoch: 4, Batch: 20, Loss: 0.1778\n",
      "Epoch: 4, Batch: 40, Loss: 0.1733\n",
      "Epoch 4\n",
      "Validation Loss: 0.2485\n",
      "Mean Angular Error: 36.73°\n",
      "Median Angular Error: 33.71°\n",
      "Accuracy @ 11.25°: 9.93%\n",
      "Accuracy @ 22.5°: 29.69%\n",
      "Accuracy @ 30°: 43.56%\n",
      "Saved best model!\n",
      "--------------------------------------------------\n",
      "Epoch: 5, Batch: 20, Loss: 0.1504\n",
      "Epoch: 5, Batch: 40, Loss: 0.1390\n",
      "Epoch 5\n",
      "Validation Loss: 0.2431\n",
      "Mean Angular Error: 35.89°\n",
      "Median Angular Error: 32.35°\n",
      "Accuracy @ 11.25°: 12.00%\n",
      "Accuracy @ 22.5°: 33.00%\n",
      "Accuracy @ 30°: 46.18%\n",
      "Saved best model!\n",
      "--------------------------------------------------\n",
      "Epoch: 6, Batch: 20, Loss: 0.1264\n",
      "Epoch: 6, Batch: 40, Loss: 0.1283\n",
      "Epoch 6\n",
      "Validation Loss: 0.2332\n",
      "Mean Angular Error: 34.79°\n",
      "Median Angular Error: 31.09°\n",
      "Accuracy @ 11.25°: 14.08%\n",
      "Accuracy @ 22.5°: 35.47%\n",
      "Accuracy @ 30°: 48.26%\n",
      "Saved best model!\n",
      "--------------------------------------------------\n",
      "Epoch: 7, Batch: 20, Loss: 0.1164\n",
      "Epoch: 7, Batch: 40, Loss: 0.1150\n",
      "Epoch 7\n",
      "Validation Loss: 0.2387\n",
      "Mean Angular Error: 35.12°\n",
      "Median Angular Error: 31.28°\n",
      "Accuracy @ 11.25°: 14.55%\n",
      "Accuracy @ 22.5°: 35.43%\n",
      "Accuracy @ 30°: 48.00%\n",
      "--------------------------------------------------\n",
      "Epoch: 8, Batch: 20, Loss: 0.1044\n",
      "Epoch: 8, Batch: 40, Loss: 0.1074\n",
      "Epoch 8\n",
      "Validation Loss: 0.2341\n",
      "Mean Angular Error: 34.70°\n",
      "Median Angular Error: 30.84°\n",
      "Accuracy @ 11.25°: 15.00%\n",
      "Accuracy @ 22.5°: 36.24%\n",
      "Accuracy @ 30°: 48.70%\n",
      "--------------------------------------------------\n",
      "Epoch: 9, Batch: 20, Loss: 0.1002\n",
      "Epoch: 9, Batch: 40, Loss: 0.0972\n",
      "Epoch 9\n",
      "Validation Loss: 0.2286\n",
      "Mean Angular Error: 34.22°\n",
      "Median Angular Error: 30.23°\n",
      "Accuracy @ 11.25°: 15.20%\n",
      "Accuracy @ 22.5°: 36.97%\n",
      "Accuracy @ 30°: 49.64%\n",
      "Saved best model!\n",
      "--------------------------------------------------\n",
      "Epoch: 10, Batch: 20, Loss: 0.0927\n",
      "Epoch: 10, Batch: 40, Loss: 0.0917\n",
      "Epoch 10\n",
      "Validation Loss: 0.2255\n",
      "Mean Angular Error: 33.79°\n",
      "Median Angular Error: 29.56°\n",
      "Accuracy @ 11.25°: 16.24%\n",
      "Accuracy @ 22.5°: 38.04%\n",
      "Accuracy @ 30°: 50.70%\n",
      "Saved best model!\n",
      "--------------------------------------------------\n",
      "Epoch: 11, Batch: 20, Loss: 0.0874\n",
      "Epoch: 11, Batch: 40, Loss: 0.0897\n",
      "Epoch 11\n",
      "Validation Loss: 0.2263\n",
      "Mean Angular Error: 33.81°\n",
      "Median Angular Error: 29.53°\n",
      "Accuracy @ 11.25°: 16.51%\n",
      "Accuracy @ 22.5°: 38.28%\n",
      "Accuracy @ 30°: 50.73%\n",
      "--------------------------------------------------\n",
      "Epoch: 12, Batch: 20, Loss: 0.0859\n",
      "Epoch: 12, Batch: 40, Loss: 0.0832\n",
      "Epoch 12\n",
      "Validation Loss: 0.2241\n",
      "Mean Angular Error: 33.53°\n",
      "Median Angular Error: 29.14°\n",
      "Accuracy @ 11.25°: 17.18%\n",
      "Accuracy @ 22.5°: 38.98%\n",
      "Accuracy @ 30°: 51.32%\n",
      "Saved best model!\n",
      "--------------------------------------------------\n",
      "Epoch: 13, Batch: 20, Loss: 0.0786\n",
      "Epoch: 13, Batch: 40, Loss: 0.0786\n",
      "Epoch 13\n",
      "Validation Loss: 0.2267\n",
      "Mean Angular Error: 33.75°\n",
      "Median Angular Error: 29.39°\n",
      "Accuracy @ 11.25°: 17.07%\n",
      "Accuracy @ 22.5°: 38.61%\n",
      "Accuracy @ 30°: 50.94%\n",
      "--------------------------------------------------\n",
      "Epoch: 14, Batch: 20, Loss: 0.0773\n",
      "Epoch: 14, Batch: 40, Loss: 0.0764\n",
      "Epoch 14\n",
      "Validation Loss: 0.2242\n",
      "Mean Angular Error: 33.64°\n",
      "Median Angular Error: 29.42°\n",
      "Accuracy @ 11.25°: 16.54%\n",
      "Accuracy @ 22.5°: 38.36%\n",
      "Accuracy @ 30°: 50.92%\n",
      "--------------------------------------------------\n",
      "Epoch: 15, Batch: 20, Loss: 0.0736\n",
      "Epoch: 15, Batch: 40, Loss: 0.0740\n",
      "Epoch 15\n",
      "Validation Loss: 0.2248\n",
      "Mean Angular Error: 33.53°\n",
      "Median Angular Error: 29.16°\n",
      "Accuracy @ 11.25°: 17.57%\n",
      "Accuracy @ 22.5°: 39.02%\n",
      "Accuracy @ 30°: 51.28%\n",
      "--------------------------------------------------\n",
      "Epoch: 16, Batch: 20, Loss: 0.0730\n",
      "Epoch: 16, Batch: 40, Loss: 0.0707\n",
      "Epoch 16\n",
      "Validation Loss: 0.2198\n",
      "Mean Angular Error: 33.05°\n",
      "Median Angular Error: 28.59°\n",
      "Accuracy @ 11.25°: 18.02%\n",
      "Accuracy @ 22.5°: 39.81%\n",
      "Accuracy @ 30°: 52.18%\n",
      "Saved best model!\n",
      "--------------------------------------------------\n",
      "Epoch: 17, Batch: 20, Loss: 0.0668\n",
      "Epoch: 17, Batch: 40, Loss: 0.0702\n",
      "Epoch 17\n",
      "Validation Loss: 0.2266\n",
      "Mean Angular Error: 33.65°\n",
      "Median Angular Error: 29.23°\n",
      "Accuracy @ 11.25°: 17.64%\n",
      "Accuracy @ 22.5°: 39.01%\n",
      "Accuracy @ 30°: 51.18%\n",
      "--------------------------------------------------\n",
      "Epoch: 18, Batch: 20, Loss: 0.0681\n",
      "Epoch: 18, Batch: 40, Loss: 0.0671\n",
      "Epoch 18\n",
      "Validation Loss: 0.2268\n",
      "Mean Angular Error: 33.74°\n",
      "Median Angular Error: 29.36°\n",
      "Accuracy @ 11.25°: 17.05%\n",
      "Accuracy @ 22.5°: 38.66%\n",
      "Accuracy @ 30°: 50.99%\n",
      "--------------------------------------------------\n",
      "Epoch: 19, Batch: 20, Loss: 0.0642\n",
      "Epoch: 19, Batch: 40, Loss: 0.0652\n",
      "Epoch 19\n",
      "Validation Loss: 0.2236\n",
      "Mean Angular Error: 33.36°\n",
      "Median Angular Error: 28.88°\n",
      "Accuracy @ 11.25°: 17.95%\n",
      "Accuracy @ 22.5°: 39.49%\n",
      "Accuracy @ 30°: 51.72%\n",
      "--------------------------------------------------\n",
      "Epoch: 20, Batch: 20, Loss: 0.0621\n",
      "Epoch: 20, Batch: 40, Loss: 0.0654\n",
      "Epoch 20\n",
      "Validation Loss: 0.2288\n",
      "Mean Angular Error: 33.94°\n",
      "Median Angular Error: 29.62°\n",
      "Accuracy @ 11.25°: 16.90%\n",
      "Accuracy @ 22.5°: 38.32%\n",
      "Accuracy @ 30°: 50.58%\n",
      "--------------------------------------------------\n"
     ]
    }
   ],
   "source": [
    "########################################################################\n",
    "# TODO: Implement your training cycles, make sure you evaluate on validation\n",
    "# dataset and compute evaluation metrics every so often.\n",
    "# You may also want to save models that perform well.\n",
    "\n",
    "model = MyModel().to(device)\n",
    "criterion = MyCriterion().to(device)\n",
    "optimizer = torch.optim.Adam(model.parameters(), lr=0.00005, weight_decay=1e-5)\n",
    "scheduler = torch.optim.lr_scheduler.ReduceLROnPlateau(optimizer, 'min', patience=2, factor=0.5)\n",
    "\n",
    "train_dataset = NormalDataset(split='train')\n",
    "train_dataloader = data.DataLoader(train_dataset, batch_size=8,\n",
    "                                 shuffle=True, num_workers=2,\n",
    "                                 drop_last=True)\n",
    "\n",
    "val_dataset = NormalDataset(split='val')\n",
    "val_dataloader = data.DataLoader(val_dataset, batch_size=8,\n",
    "                               shuffle=False, num_workers=2)\n",
    "\n",
    "num_epochs = 20\n",
    "best_val_loss = float('inf')\n",
    "\n",
    "for epoch in range(num_epochs):\n",
    "   model = simple_train(model, criterion, optimizer, train_dataloader, epoch)\n",
    "   \n",
    "   model.eval()\n",
    "   val_loss = 0.0\n",
    "   all_angular_errors = []\n",
    "   \n",
    "   with torch.no_grad():\n",
    "       for images, targets, masks in val_dataloader:\n",
    "           images = images.to(device)\n",
    "           targets = targets.to(device)\n",
    "           masks = masks.to(device)\n",
    "           \n",
    "           outputs = model(images)\n",
    "           loss = criterion(outputs, targets, masks)\n",
    "           val_loss += loss.item()\n",
    "           \n",
    "           outputs_normalized = F.normalize(outputs, p=2, dim=1)\n",
    "           targets_normalized = F.normalize(targets, p=2, dim=1)\n",
    "           dot_product = torch.sum(outputs_normalized * targets_normalized, dim=1)\n",
    "           dot_product = torch.clamp(dot_product, -1.0, 1.0)\n",
    "           angular_error = torch.acos(dot_product) * 180.0 / np.pi\n",
    "           angular_error = angular_error[masks]\n",
    "           all_angular_errors.append(angular_error.cpu())\n",
    "   \n",
    "   val_loss /= len(val_dataloader)\n",
    "   all_angular_errors = torch.cat(all_angular_errors)\n",
    "   mean_angular_error = all_angular_errors.mean().item()\n",
    "   median_angular_error = all_angular_errors.median().item()\n",
    "   \n",
    "   acc_11_25 = (all_angular_errors < 11.25).float().mean().item() * 100\n",
    "   acc_22_5 = (all_angular_errors < 22.5).float().mean().item() * 100\n",
    "   acc_30 = (all_angular_errors < 30).float().mean().item() * 100\n",
    "   \n",
    "   print(f'Epoch {epoch+1}')\n",
    "   print(f'Validation Loss: {val_loss:.4f}')\n",
    "   print(f'Mean Angular Error: {mean_angular_error:.2f}°')\n",
    "   print(f'Median Angular Error: {median_angular_error:.2f}°')\n",
    "   print(f'Accuracy @ 11.25°: {acc_11_25:.2f}%')\n",
    "   print(f'Accuracy @ 22.5°: {acc_22_5:.2f}%')\n",
    "   print(f'Accuracy @ 30°: {acc_30:.2f}%')\n",
    "   \n",
    "   scheduler.step(val_loss)\n",
    "   \n",
    "   if val_loss < best_val_loss:\n",
    "       best_val_loss = val_loss\n",
    "       torch.save({\n",
    "           'epoch': epoch,\n",
    "           'model_state_dict': model.state_dict(),\n",
    "           'optimizer_state_dict': optimizer.state_dict(),\n",
    "           'loss': val_loss,\n",
    "           'mean_angular_error': mean_angular_error,\n",
    "           'median_angular_error': median_angular_error,\n",
    "           'acc_11_25': acc_11_25,\n",
    "           'acc_22_5': acc_22_5,\n",
    "           'acc_30': acc_30\n",
    "       }, 'best_normal_model.pth')\n",
    "       print(\"Saved best model!\")\n",
    "   \n",
    "   print('-' * 50)\n"
   ]
  },
  {
   "cell_type": "markdown",
   "metadata": {
    "id": "INjSihbcSIlH"
   },
   "source": [
    "# You do not need to change anything below"
   ]
  },
  {
   "cell_type": "code",
   "execution_count": 32,
   "metadata": {
    "id": "HA9WZ-Nqh1Ka"
   },
   "outputs": [
    {
     "data": {
      "application/vnd.jupyter.widget-view+json": {
       "model_id": "96f132f1b26243308efee67e99ef9dbf",
       "version_major": 2,
       "version_minor": 0
      },
      "text/plain": [
       "  0%|          | 0/200 [00:00<?, ?it/s]"
      ]
     },
     "metadata": {},
     "output_type": "display_data"
    },
    {
     "name": "stdout",
     "output_type": "stream",
     "text": [
      "Validation loss (L1): 0.2691164869442582\n",
      "Validation metrics: Mean 33.9, Median 29.6, 11.25deg 16.9, 22.5deg 38.3, 30deg 50.6\n"
     ]
    }
   ],
   "source": [
    "########################################################################\n",
    "# Evaluate your result, and report\n",
    "# 1. Mean angular error\n",
    "# 2. Median angular error\n",
    "# 3. Accuracy at 11.25 degree\n",
    "# 4. Accuracy at 22.5 degree\n",
    "# 5. Accuracy at 30 degree\n",
    "# using provided `simple_predict` function.\n",
    "\n",
    "def angle_error(prediction, target):\n",
    "    prediction_error = torch.cosine_similarity(prediction, target)\n",
    "    prediction_error = torch.clamp(prediction_error, min=-1.0, max=1.0)\n",
    "    prediction_error = torch.acos(prediction_error) * 180.0 / np.pi\n",
    "    return prediction_error\n",
    "\n",
    "def simple_predict(split, model):\n",
    "    model.eval()\n",
    "    dataset = NormalDataset(split=split)\n",
    "    dataloader = data.DataLoader(dataset, batch_size=1, shuffle=False,\n",
    "                                 num_workers=2, drop_last=False)\n",
    "    gts, preds, losses = [], [], []\n",
    "    total_normal_errors = None\n",
    "    with torch.no_grad():\n",
    "        for i, batch in enumerate(tqdm(dataloader)):\n",
    "            img, gt, mask = batch\n",
    "            img = img.to(device)\n",
    "            gt = gt.to(device)\n",
    "            mask = mask.to(device)\n",
    "\n",
    "            pred = model(img)\n",
    "            loss = (F.l1_loss(pred, gt, reduction=\"none\") * mask.unsqueeze(1)).mean()\n",
    "\n",
    "            gts.append((gt[0].permute((1, 2, 0)).cpu().numpy() + 1) / 2)\n",
    "            preds.append((pred[0].permute((1, 2, 0)).cpu().numpy() + 1) / 2)\n",
    "            losses.append(loss.item())\n",
    "\n",
    "            angle_error_prediction = angle_error(pred, gt)\n",
    "            angle_error_prediction = angle_error_prediction[mask > 0].view(-1)\n",
    "            if total_normal_errors is None:\n",
    "                total_normal_errors = angle_error_prediction.cpu().numpy()\n",
    "            else:\n",
    "                total_normal_errors = np.concatenate(\n",
    "                    (total_normal_errors, angle_error_prediction.cpu().numpy())\n",
    "                )\n",
    "\n",
    "    return gts, preds, losses, total_normal_errors\n",
    "\n",
    "val_gts, val_preds, val_losses, val_total_normal_errors = simple_predict('val', model)\n",
    "print(\"Validation loss (L1):\", np.mean(val_losses))\n",
    "print(\"Validation metrics: Mean %.1f, Median %.1f, 11.25deg %.1f, 22.5deg %.1f, 30deg %.1f\" % (\n",
    "    np.average(val_total_normal_errors), np.median(val_total_normal_errors),\n",
    "    np.sum(val_total_normal_errors < 11.25) / val_total_normal_errors.shape[0] * 100,\n",
    "    np.sum(val_total_normal_errors < 22.5) / val_total_normal_errors.shape[0] * 100,\n",
    "    np.sum(val_total_normal_errors < 30) / val_total_normal_errors.shape[0] * 100\n",
    "))\n",
    "\n",
    "# vis validation\n",
    "fig, axs = plt.subplots(ncols=5, nrows=2, figsize=(22, 7))\n",
    "for idx, ax_i in enumerate(axs.T):\n",
    "    ax = ax_i[0]\n",
    "    ax.imshow(val_gts[idx])\n",
    "    ax.axis('off')\n",
    "    ax = ax_i[1]\n",
    "    ax.imshow(val_preds[idx])\n",
    "    ax.axis('off')\n",
    "fig.tight_layout()\n",
    "plt.savefig('vis_valset.pdf', format='pdf', bbox_inches='tight')"
   ]
  },
  {
   "cell_type": "code",
   "execution_count": 36,
   "metadata": {
    "id": "2rBOVQc9CPdW"
   },
   "outputs": [
    {
     "data": {
      "application/vnd.jupyter.widget-view+json": {
       "model_id": "c920574bde8a4a61a494159d97e074cf",
       "version_major": 2,
       "version_minor": 0
      },
      "text/plain": [
       "  0%|          | 0/200 [00:00<?, ?it/s]"
      ]
     },
     "metadata": {},
     "output_type": "display_data"
    },
    {
     "name": "stderr",
     "output_type": "stream",
     "text": [
      "Clipping input data to the valid range for imshow with RGB data ([0..1] for floats or [0..255] for integers). Got range [-4.053115898461357e-09..1.0000000236034394].\n",
      "Clipping input data to the valid range for imshow with RGB data ([0..1] for floats or [0..255] for integers). Got range [-4.053115898461357e-09..1.0000000236034394].\n",
      "Clipping input data to the valid range for imshow with RGB data ([0..1] for floats or [0..255] for integers). Got range [2.7418136649970393e-09..1.0000000236034394].\n",
      "Clipping input data to the valid range for imshow with RGB data ([0..1] for floats or [0..255] for integers). Got range [-4.053115898461357e-09..1.0000000236034394].\n",
      "Clipping input data to the valid range for imshow with RGB data ([0..1] for floats or [0..255] for integers). Got range [-4.053115898461357e-09..1.0000000236034394].\n"
     ]
    }
   ],
   "source": [
    "# Visualization\n",
    "# pick some of your favorite images and put them under `./data/normal_visualization/image`\n",
    "\n",
    "class VisualizationDataset(data.Dataset):\n",
    "    def __init__(self, image_dir=\"./taskonomy_resize_128_public\", image_ext=\".png\"):\n",
    "        self.img_dir = image_dir\n",
    "        self.img_ext = image_ext\n",
    "\n",
    "        self.img_dir = os.path.join(image_dir, \"collierville_rgb\")\n",
    "\n",
    "        self.image_filenames = [\n",
    "            os.path.splitext(os.path.basename(l))[0] for l in glob.glob(self.img_dir + \"/*\" + image_ext)\n",
    "        ]\n",
    "        self.image_filenames.sort()\n",
    "\n",
    "    def __len__(self):\n",
    "        return len(self.image_filenames)\n",
    "\n",
    "    def __getitem__(self, index):\n",
    "        filename = self.image_filenames[index]\n",
    "        img = Image.open(os.path.join(self.img_dir, filename) + self.img_ext)\n",
    "        img = np.asarray(img).copy()\n",
    "        img = ToTensor()(img)\n",
    "        img = Normalize([0.485, 0.456, 0.406], [0.229, 0.224, 0.225])(img)\n",
    "\n",
    "        return img.contiguous(), filename\n",
    "\n",
    "def simple_vis(model):\n",
    "    model.eval()\n",
    "    dataset = VisualizationDataset(image_dir=\"./taskonomy_resize_128_public\")\n",
    "    dataloader = data.DataLoader(dataset, batch_size=1, shuffle=False,\n",
    "                                 num_workers=2, drop_last=False)\n",
    "    imgs, preds = [], []\n",
    "\n",
    "    mean = np.array([0.485, 0.456, 0.406])\n",
    "    std = np.array([0.229, 0.224, 0.225])\n",
    "\n",
    "    with torch.no_grad():\n",
    "        for i, batch in enumerate(tqdm(dataloader)):\n",
    "            img, _ = batch\n",
    "            img = img.to(device)\n",
    "\n",
    "            pred = model(img)\n",
    "            imgs.append(\n",
    "                std * img[0].permute((1, 2, 0)).cpu().numpy() + mean\n",
    "            )\n",
    "            preds.append((pred[0].permute((1, 2, 0)).cpu().numpy() + 1) / 2)\n",
    "\n",
    "    return imgs, preds\n",
    "\n",
    "imgs, preds = simple_vis(model)\n",
    "fig, axs = plt.subplots(ncols=5, nrows=2, figsize=(22, 7))\n",
    "for idx, ax_i in enumerate(axs.T):\n",
    "    ax = ax_i[0]\n",
    "    ax.imshow(imgs[idx])\n",
    "    ax.axis('off')\n",
    "    ax = ax_i[1]\n",
    "    ax.imshow(preds[idx])\n",
    "    ax.axis('off')\n",
    "fig.tight_layout()\n",
    "plt.savefig('CS585_visualization.pdf', format='pdf', bbox_inches='tight')"
   ]
  },
  {
   "cell_type": "code",
   "execution_count": null,
   "metadata": {},
   "outputs": [],
   "source": []
  },
  {
   "cell_type": "code",
   "execution_count": null,
   "metadata": {},
   "outputs": [],
   "source": []
  },
  {
   "cell_type": "code",
   "execution_count": 39,
   "metadata": {},
   "outputs": [
    {
     "data": {
      "application/vnd.jupyter.widget-view+json": {
       "model_id": "75055ecae21848edbb628d1265180e6a",
       "version_major": 2,
       "version_minor": 0
      },
      "text/plain": [
       "  0%|          | 0/200 [00:00<?, ?it/s]"
      ]
     },
     "metadata": {},
     "output_type": "display_data"
    },
    {
     "name": "stderr",
     "output_type": "stream",
     "text": [
      "Clipping input data to the valid range for imshow with RGB data ([0..1] for floats or [0..255] for integers). Got range [3.051757813121725e-08..1.0000000236034394].\n",
      "Clipping input data to the valid range for imshow with RGB data ([0..1] for floats or [0..255] for integers). Got range [-4.053115898461357e-09..1.0000000236034394].\n",
      "Clipping input data to the valid range for imshow with RGB data ([0..1] for floats or [0..255] for integers). Got range [2.7418136649970393e-09..1.0000000236034394].\n",
      "Clipping input data to the valid range for imshow with RGB data ([0..1] for floats or [0..255] for integers). Got range [-4.053115898461357e-09..1.0000000076293944].\n",
      "Clipping input data to the valid range for imshow with RGB data ([0..1] for floats or [0..255] for integers). Got range [2.7418136649970393e-09..1.0000000236034394].\n"
     ]
    }
   ],
   "source": [
    "# Visualization\n",
    "# pick some of your favorite images and put them under `./data/normal_visualization/image`\n",
    "\n",
    "class VisualizationDataset(data.Dataset):\n",
    "    def __init__(self, image_dir=\"./taskonomy_resize_128_public\", image_ext=\".png\"):\n",
    "        self.img_dir = image_dir\n",
    "        self.img_ext = image_ext\n",
    "\n",
    "        self.img_dir = os.path.join(image_dir, \"collierville_rgb\")\n",
    "\n",
    "        self.image_filenames = [\n",
    "            os.path.splitext(os.path.basename(l))[0] for l in glob.glob(self.img_dir + \"/*\" + image_ext)\n",
    "        ]\n",
    "\n",
    "    def __len__(self):\n",
    "        return len(self.image_filenames)\n",
    "\n",
    "    def __getitem__(self, index):\n",
    "        filename = self.image_filenames[index]\n",
    "        img = Image.open(os.path.join(self.img_dir, filename) + self.img_ext)\n",
    "        img = np.asarray(img).copy()\n",
    "        img = ToTensor()(img)\n",
    "        img = Normalize([0.485, 0.456, 0.406], [0.229, 0.224, 0.225])(img)\n",
    "\n",
    "        return img.contiguous(), filename\n",
    "\n",
    "def simple_vis(model):\n",
    "    model.eval()\n",
    "    dataset = VisualizationDataset(image_dir=\"./taskonomy_resize_128_public\")\n",
    "    dataloader = data.DataLoader(dataset, batch_size=1, shuffle=False,\n",
    "                                 num_workers=2, drop_last=False)\n",
    "    imgs, preds = [], []\n",
    "\n",
    "    mean = np.array([0.485, 0.456, 0.406])\n",
    "    std = np.array([0.229, 0.224, 0.225])\n",
    "\n",
    "    with torch.no_grad():\n",
    "        for i, batch in enumerate(tqdm(dataloader)):\n",
    "            img, _ = batch\n",
    "            img = img.to(device)\n",
    "\n",
    "            pred = model(img)\n",
    "            imgs.append(\n",
    "                std * img[0].permute((1, 2, 0)).cpu().numpy() + mean\n",
    "            )\n",
    "            preds.append((pred[0].permute((1, 2, 0)).cpu().numpy() + 1) / 2)\n",
    "\n",
    "    return imgs, preds\n",
    "\n",
    "imgs, preds = simple_vis(model)\n",
    "fig, axs = plt.subplots(ncols=5, nrows=2, figsize=(22, 7))\n",
    "for idx, ax_i in enumerate(axs.T):\n",
    "    ax = ax_i[0]\n",
    "    ax.imshow(imgs[idx])\n",
    "    ax.axis('off')\n",
    "    ax = ax_i[1]\n",
    "    ax.imshow(preds[idx])\n",
    "    ax.axis('off')\n",
    "fig.tight_layout()\n",
    "plt.savefig('q2_visualization.pdf', format='pdf', bbox_inches='tight')\n",
    "   "
   ]
  },
  {
   "cell_type": "code",
   "execution_count": 40,
   "metadata": {},
   "outputs": [
    {
     "data": {
      "application/vnd.jupyter.widget-view+json": {
       "model_id": "9de49d6920ea4e3b87c8968ab831f2e3",
       "version_major": 2,
       "version_minor": 0
      },
      "text/plain": [
       "  0%|          | 0/200 [00:00<?, ?it/s]"
      ]
     },
     "metadata": {},
     "output_type": "display_data"
    }
   ],
   "source": [
    "# Test your model on the test set, submit the output to gradescope\n",
    "\n",
    "from PIL import Image\n",
    "import numpy as np\n",
    "\n",
    "def simple_test(model, out_dir):\n",
    "    model.eval()\n",
    "    dataset = VisualizationDataset(image_dir=\"./taskonomy_resize_128_public\")\n",
    "    dataloader = data.DataLoader(dataset, batch_size=1, shuffle=False,\n",
    "                                 num_workers=2, drop_last=False)\n",
    "\n",
    "    saved_predictions = []\n",
    "    with torch.no_grad():\n",
    "        for i, batch in enumerate(tqdm(dataloader)):\n",
    "            img, filename = batch\n",
    "            img = img.to(device)\n",
    "\n",
    "            pred = model(img)\n",
    "            saved_predictions.append(pred.cpu())\n",
    "\n",
    "        saved_predictions = torch.cat(saved_predictions, dim=0)\n",
    "        return saved_predictions\n",
    "\n",
    "out_dir = \"Q2_normal_predictions\"\n",
    "saved_predictions = simple_test(model, out_dir)\n",
    "np.save('./Q2_surface_predictions.npy', saved_predictions)"
   ]
  }
 ],
 "metadata": {
  "accelerator": "GPU",
  "colab": {
   "gpuType": "T4",
   "provenance": []
  },
  "kernelspec": {
   "display_name": "Python 3 (ipykernel)",
   "language": "python",
   "name": "python3"
  },
  "language_info": {
   "codemirror_mode": {
    "name": "ipython",
    "version": 3
   },
   "file_extension": ".py",
   "mimetype": "text/x-python",
   "name": "python",
   "nbconvert_exporter": "python",
   "pygments_lexer": "ipython3",
   "version": "3.11.9"
  },
  "widgets": {
   "application/vnd.jupyter.widget-state+json": {
    "24e96b58f6f446f5ac2ce7bbadef40de": {
     "model_module": "@jupyter-widgets/base",
     "model_module_version": "1.2.0",
     "model_name": "LayoutModel",
     "state": {
      "_model_module": "@jupyter-widgets/base",
      "_model_module_version": "1.2.0",
      "_model_name": "LayoutModel",
      "_view_count": null,
      "_view_module": "@jupyter-widgets/base",
      "_view_module_version": "1.2.0",
      "_view_name": "LayoutView",
      "align_content": null,
      "align_items": null,
      "align_self": null,
      "border": null,
      "bottom": null,
      "display": null,
      "flex": null,
      "flex_flow": null,
      "grid_area": null,
      "grid_auto_columns": null,
      "grid_auto_flow": null,
      "grid_auto_rows": null,
      "grid_column": null,
      "grid_gap": null,
      "grid_row": null,
      "grid_template_areas": null,
      "grid_template_columns": null,
      "grid_template_rows": null,
      "height": null,
      "justify_content": null,
      "justify_items": null,
      "left": null,
      "margin": null,
      "max_height": null,
      "max_width": null,
      "min_height": null,
      "min_width": null,
      "object_fit": null,
      "object_position": null,
      "order": null,
      "overflow": null,
      "overflow_x": null,
      "overflow_y": null,
      "padding": null,
      "right": null,
      "top": null,
      "visibility": null,
      "width": null
     }
    },
    "3a52e4266bc04d2a994b3421eea362a6": {
     "model_module": "@jupyter-widgets/base",
     "model_module_version": "1.2.0",
     "model_name": "LayoutModel",
     "state": {
      "_model_module": "@jupyter-widgets/base",
      "_model_module_version": "1.2.0",
      "_model_name": "LayoutModel",
      "_view_count": null,
      "_view_module": "@jupyter-widgets/base",
      "_view_module_version": "1.2.0",
      "_view_name": "LayoutView",
      "align_content": null,
      "align_items": null,
      "align_self": null,
      "border": null,
      "bottom": null,
      "display": null,
      "flex": null,
      "flex_flow": null,
      "grid_area": null,
      "grid_auto_columns": null,
      "grid_auto_flow": null,
      "grid_auto_rows": null,
      "grid_column": null,
      "grid_gap": null,
      "grid_row": null,
      "grid_template_areas": null,
      "grid_template_columns": null,
      "grid_template_rows": null,
      "height": null,
      "justify_content": null,
      "justify_items": null,
      "left": null,
      "margin": null,
      "max_height": null,
      "max_width": null,
      "min_height": null,
      "min_width": null,
      "object_fit": null,
      "object_position": null,
      "order": null,
      "overflow": null,
      "overflow_x": null,
      "overflow_y": null,
      "padding": null,
      "right": null,
      "top": null,
      "visibility": null,
      "width": null
     }
    },
    "3ce20778fa634f50a4b9840a14fcee19": {
     "model_module": "@jupyter-widgets/base",
     "model_module_version": "1.2.0",
     "model_name": "LayoutModel",
     "state": {
      "_model_module": "@jupyter-widgets/base",
      "_model_module_version": "1.2.0",
      "_model_name": "LayoutModel",
      "_view_count": null,
      "_view_module": "@jupyter-widgets/base",
      "_view_module_version": "1.2.0",
      "_view_name": "LayoutView",
      "align_content": null,
      "align_items": null,
      "align_self": null,
      "border": null,
      "bottom": null,
      "display": null,
      "flex": null,
      "flex_flow": null,
      "grid_area": null,
      "grid_auto_columns": null,
      "grid_auto_flow": null,
      "grid_auto_rows": null,
      "grid_column": null,
      "grid_gap": null,
      "grid_row": null,
      "grid_template_areas": null,
      "grid_template_columns": null,
      "grid_template_rows": null,
      "height": null,
      "justify_content": null,
      "justify_items": null,
      "left": null,
      "margin": null,
      "max_height": null,
      "max_width": null,
      "min_height": null,
      "min_width": null,
      "object_fit": null,
      "object_position": null,
      "order": null,
      "overflow": null,
      "overflow_x": null,
      "overflow_y": null,
      "padding": null,
      "right": null,
      "top": null,
      "visibility": null,
      "width": null
     }
    },
    "5aa25ad30b7a4f5f89b9c4d7d90e81ba": {
     "model_module": "@jupyter-widgets/controls",
     "model_module_version": "1.5.0",
     "model_name": "HTMLModel",
     "state": {
      "_dom_classes": [],
      "_model_module": "@jupyter-widgets/controls",
      "_model_module_version": "1.5.0",
      "_model_name": "HTMLModel",
      "_view_count": null,
      "_view_module": "@jupyter-widgets/controls",
      "_view_module_version": "1.5.0",
      "_view_name": "HTMLView",
      "description": "",
      "description_tooltip": null,
      "layout": "IPY_MODEL_3a52e4266bc04d2a994b3421eea362a6",
      "placeholder": "​",
      "style": "IPY_MODEL_70608c354af64e95b3389431cd5be373",
      "value": " 15/15 [03:46&lt;00:00, 15.22s/it]"
     }
    },
    "70608c354af64e95b3389431cd5be373": {
     "model_module": "@jupyter-widgets/controls",
     "model_module_version": "1.5.0",
     "model_name": "DescriptionStyleModel",
     "state": {
      "_model_module": "@jupyter-widgets/controls",
      "_model_module_version": "1.5.0",
      "_model_name": "DescriptionStyleModel",
      "_view_count": null,
      "_view_module": "@jupyter-widgets/base",
      "_view_module_version": "1.2.0",
      "_view_name": "StyleView",
      "description_width": ""
     }
    },
    "80d99a831e3143038aad125b021d213e": {
     "model_module": "@jupyter-widgets/controls",
     "model_module_version": "1.5.0",
     "model_name": "HTMLModel",
     "state": {
      "_dom_classes": [],
      "_model_module": "@jupyter-widgets/controls",
      "_model_module_version": "1.5.0",
      "_model_name": "HTMLModel",
      "_view_count": null,
      "_view_module": "@jupyter-widgets/controls",
      "_view_module_version": "1.5.0",
      "_view_name": "HTMLView",
      "description": "",
      "description_tooltip": null,
      "layout": "IPY_MODEL_a45502e041404079b1fcfb3d5e6dd7fa",
      "placeholder": "​",
      "style": "IPY_MODEL_c2a7c5a0e3d14cb2b7fce30f275e99f2",
      "value": "100%"
     }
    },
    "8deab63944ab4732aa38e372d09faff9": {
     "model_module": "@jupyter-widgets/controls",
     "model_module_version": "1.5.0",
     "model_name": "FloatProgressModel",
     "state": {
      "_dom_classes": [],
      "_model_module": "@jupyter-widgets/controls",
      "_model_module_version": "1.5.0",
      "_model_name": "FloatProgressModel",
      "_view_count": null,
      "_view_module": "@jupyter-widgets/controls",
      "_view_module_version": "1.5.0",
      "_view_name": "ProgressView",
      "bar_style": "success",
      "description": "",
      "description_tooltip": null,
      "layout": "IPY_MODEL_3ce20778fa634f50a4b9840a14fcee19",
      "max": 15,
      "min": 0,
      "orientation": "horizontal",
      "style": "IPY_MODEL_8fcae576c0be41388d9537b9d2af3801",
      "value": 15
     }
    },
    "8fcae576c0be41388d9537b9d2af3801": {
     "model_module": "@jupyter-widgets/controls",
     "model_module_version": "1.5.0",
     "model_name": "ProgressStyleModel",
     "state": {
      "_model_module": "@jupyter-widgets/controls",
      "_model_module_version": "1.5.0",
      "_model_name": "ProgressStyleModel",
      "_view_count": null,
      "_view_module": "@jupyter-widgets/base",
      "_view_module_version": "1.2.0",
      "_view_name": "StyleView",
      "bar_color": null,
      "description_width": ""
     }
    },
    "a45502e041404079b1fcfb3d5e6dd7fa": {
     "model_module": "@jupyter-widgets/base",
     "model_module_version": "1.2.0",
     "model_name": "LayoutModel",
     "state": {
      "_model_module": "@jupyter-widgets/base",
      "_model_module_version": "1.2.0",
      "_model_name": "LayoutModel",
      "_view_count": null,
      "_view_module": "@jupyter-widgets/base",
      "_view_module_version": "1.2.0",
      "_view_name": "LayoutView",
      "align_content": null,
      "align_items": null,
      "align_self": null,
      "border": null,
      "bottom": null,
      "display": null,
      "flex": null,
      "flex_flow": null,
      "grid_area": null,
      "grid_auto_columns": null,
      "grid_auto_flow": null,
      "grid_auto_rows": null,
      "grid_column": null,
      "grid_gap": null,
      "grid_row": null,
      "grid_template_areas": null,
      "grid_template_columns": null,
      "grid_template_rows": null,
      "height": null,
      "justify_content": null,
      "justify_items": null,
      "left": null,
      "margin": null,
      "max_height": null,
      "max_width": null,
      "min_height": null,
      "min_width": null,
      "object_fit": null,
      "object_position": null,
      "order": null,
      "overflow": null,
      "overflow_x": null,
      "overflow_y": null,
      "padding": null,
      "right": null,
      "top": null,
      "visibility": null,
      "width": null
     }
    },
    "bacda71ad73f47109de58ffea489c7d3": {
     "model_module": "@jupyter-widgets/controls",
     "model_module_version": "1.5.0",
     "model_name": "HBoxModel",
     "state": {
      "_dom_classes": [],
      "_model_module": "@jupyter-widgets/controls",
      "_model_module_version": "1.5.0",
      "_model_name": "HBoxModel",
      "_view_count": null,
      "_view_module": "@jupyter-widgets/controls",
      "_view_module_version": "1.5.0",
      "_view_name": "HBoxView",
      "box_style": "",
      "children": [
       "IPY_MODEL_80d99a831e3143038aad125b021d213e",
       "IPY_MODEL_8deab63944ab4732aa38e372d09faff9",
       "IPY_MODEL_5aa25ad30b7a4f5f89b9c4d7d90e81ba"
      ],
      "layout": "IPY_MODEL_24e96b58f6f446f5ac2ce7bbadef40de"
     }
    },
    "c2a7c5a0e3d14cb2b7fce30f275e99f2": {
     "model_module": "@jupyter-widgets/controls",
     "model_module_version": "1.5.0",
     "model_name": "DescriptionStyleModel",
     "state": {
      "_model_module": "@jupyter-widgets/controls",
      "_model_module_version": "1.5.0",
      "_model_name": "DescriptionStyleModel",
      "_view_count": null,
      "_view_module": "@jupyter-widgets/base",
      "_view_module_version": "1.2.0",
      "_view_name": "StyleView",
      "description_width": ""
     }
    }
   }
  }
 },
 "nbformat": 4,
 "nbformat_minor": 4
}
